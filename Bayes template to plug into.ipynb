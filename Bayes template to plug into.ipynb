{
 "cells": [
  {
   "cell_type": "markdown",
   "metadata": {},
   "source": [
    "### Convert question to Probability formulation \n",
    "\n",
    "\\\\[Pr(W=1 \\mid s_1=0, s_2=0)\\\\]\n",
    "\n",
    "\n",
    "### Hypothesis in \"\"\n",
    "\n",
    "Based on the existence of\n",
    "\n",
    "$H_0=Pr(B_1=1994)$\n",
    "\n",
    "$H_{alt}=Pr(B_1=1996)$\n",
    "\n",
    "\n",
    "### Prior probability in \"\"\n",
    "\n",
    "Our prior information is based on . \n",
    "Hence, the prior is \\\\(Pr(W=1) = 0.5\\\\).\n",
    "\n",
    "\n",
    "\n",
    "\n",
    "### Likelihood in \"\"\n",
    "\n",
    "Now for the likelihood: The form of this function is:\n",
    "\n",
    "\\\\[\\mathcal{L}(s_1=0, s_2=0 \\mid W)\\\\]\n",
    "\n",
    "For this simple problem, the likelihood takes only two possible values:\n",
    "\n",
    "\\\\[\\begin{aligned}\n",
    "\\mathcal{L}( s_1=0, s_2=0 &| W=1 ) = (0.5)(0.5) = 0.25 \\cr\n",
    "\\mathcal{L}( s_1=0, s_2=0 &| W=0) = (1)(1) = 1\n",
    "\\end{aligned}\\\\]\n",
    "\n",
    "\n",
    "\n",
    "### Posterior probability calculation in \"\"\n",
    "\n",
    "With all the pieces in place, we can now apply Bayes' formula to calculate the posterior probability that :\n",
    "\n",
    "\\\\[\\begin{aligned}\n",
    "&Pr(W=1 \\mid s_1=0, s_2=0) \\cr \\cr\n",
    "&= \\frac{Pr(W=1) \\, \\mathcal{L}(s_1=0, s_2=0 | W=1)}{Pr(W=1) \\, \\mathcal{L}(s_1=0, s_2=0 | W=1) \\,\\,\\, + \\,\\, \\, Pr(W=0) \\, \\mathcal{L}(s_1=0, s_2=0 | W=0)} \\cr\n",
    "&= \\frac{Pr(W=1) \\, \\mathcal{L}(s_1=0, s_2=0 | W=1)}{Pr(W=1) \\, \\mathcal{L}(s_1=0, s_2=0 | W=1)  \\,\\,\\, + \\,\\, \\, [1-Pr(W=1)] \\,  \\mathcal{L}(s_1=0, s_2=0 | W=0)} \\cr\n",
    " &= \\frac{(0.5)(0.25)}{(0.5)(0.25)  \\,\\, + \\,\\, (0.5)(1)} \\cr\n",
    " &= 0.2\n",
    "\\end{aligned}\\\\]\n",
    "\n",
    "Hence, there is a 0.2 probability "
   ]
  },
  {
   "cell_type": "markdown",
   "metadata": {},
   "source": [
    "$\\mathcal{L}$ \n",
    "\\mathcal{L}\n",
    "\n",
    "\n",
    "$\\mathscr{L}$"
   ]
  }
 ],
 "metadata": {
  "kernelspec": {
   "display_name": "Python 3",
   "language": "python",
   "name": "python3"
  },
  "language_info": {
   "codemirror_mode": {
    "name": "ipython",
    "version": 3
   },
   "file_extension": ".py",
   "mimetype": "text/x-python",
   "name": "python",
   "nbconvert_exporter": "python",
   "pygments_lexer": "ipython3",
   "version": "3.5.1"
  },
  "latex_envs": {
   "bibliofile": "biblio.bib",
   "cite_by": "apalike",
   "current_citInitial": 1,
   "eqLabelWithNumbers": true,
   "eqNumInitial": 0
  },
  "toc": {
   "toc_cell": false,
   "toc_number_sections": true,
   "toc_threshold": 6,
   "toc_window_display": true
  }
 },
 "nbformat": 4,
 "nbformat_minor": 0
}
